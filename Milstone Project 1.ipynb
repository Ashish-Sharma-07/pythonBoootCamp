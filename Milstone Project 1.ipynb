{
 "cells": [
  {
   "cell_type": "markdown",
   "metadata": {},
   "source": [
    "# Milestone Project 1: Tic Tac Toe 2 Player Game"
   ]
  },
  {
   "cell_type": "code",
   "execution_count": 1,
   "metadata": {},
   "outputs": [],
   "source": [
    "from __future__ import print_function"
   ]
  },
  {
   "cell_type": "code",
   "execution_count": 2,
   "metadata": {},
   "outputs": [],
   "source": [
    "from IPython.display import clear_output\n",
    "def display_board(board):\n",
    "    k = 0\n",
    "    print('-------------',end='\\n')\n",
    "    for i in range(1,4):\n",
    "        for j in range(1,4):\n",
    "            if board[k]=='X' or board[k]=='O':\n",
    "                print ('| '+board[k],end=' ')\n",
    "            else:\n",
    "                print ('|  ',end=' ')\n",
    "            k = k+1;\n",
    "        print('|\\n-------------',end='\\n')"
   ]
  },
  {
   "cell_type": "code",
   "execution_count": 3,
   "metadata": {},
   "outputs": [],
   "source": [
    "def player_input():\n",
    "    i = 1\n",
    "    marker =' '\n",
    "    while(i):\n",
    "        marker = raw_input('Enter the Marker(O/X): ')\n",
    "        if(marker =='O'):\n",
    "            return('O','X')\n",
    "        elif(marker == 'X'):\n",
    "            return ('X','O')\n",
    "        else:\n",
    "            print('Marker is either O or X')"
   ]
  },
  {
   "cell_type": "code",
   "execution_count": 4,
   "metadata": {},
   "outputs": [],
   "source": [
    "def place_marker(board,marker,position):\n",
    "    board[position] = marker\n",
    "    return board"
   ]
  },
  {
   "cell_type": "code",
   "execution_count": 5,
   "metadata": {},
   "outputs": [],
   "source": [
    "def win_check(board,mark):\n",
    "    return((board[0]==board[1]==board[2]==mark) or \n",
    "       (board[3]==board[4]==board[5]==mark) or \n",
    "       (board[6]==board[7]==board[8]==mark) or\n",
    "       (board[0]==board[3]==board[6]==mark) or\n",
    "       (board[1]==board[4]==board[7]==mark) or\n",
    "       (board[2]==board[5]==board[8]==mark) or\n",
    "       (board[0]==board[4]==board[8]==mark) or\n",
    "       (board[2]==board[4]==board[6]==mark))"
   ]
  },
  {
   "cell_type": "code",
   "execution_count": 6,
   "metadata": {},
   "outputs": [],
   "source": [
    "import random"
   ]
  },
  {
   "cell_type": "code",
   "execution_count": 7,
   "metadata": {},
   "outputs": [],
   "source": [
    "def choose_first():\n",
    "    x = random.randint(0,1)\n",
    "    if(x):\n",
    "        return 'Player 1'\n",
    "    else:\n",
    "        return 'Player 2'\n",
    "        "
   ]
  },
  {
   "cell_type": "code",
   "execution_count": 8,
   "metadata": {},
   "outputs": [],
   "source": [
    "def space_check(board,position):\n",
    "    return board[position]==' '"
   ]
  },
  {
   "cell_type": "code",
   "execution_count": 9,
   "metadata": {},
   "outputs": [],
   "source": [
    "def full_board_check(board):\n",
    "    return  ' ' not in board"
   ]
  },
  {
   "cell_type": "code",
   "execution_count": 10,
   "metadata": {},
   "outputs": [],
   "source": [
    "def player_choice(board):\n",
    "    i = 1\n",
    "    while(i==1):\n",
    "        position = int(raw_input('Enter Position: '))\n",
    "        position = position - 1\n",
    "        if(position in range(0,9) and space_check(board,position)):\n",
    "            i = 0\n",
    "        else:\n",
    "            print('Wrong Location!')\n",
    "            i = 1\n",
    "    return position"
   ]
  },
  {
   "cell_type": "code",
   "execution_count": 11,
   "metadata": {},
   "outputs": [],
   "source": [
    "def reply():\n",
    "    reply = raw_input('Want to play again?(y-n): ')\n",
    "    if(reply == 'y' or reply == 'Y'):\n",
    "        return True\n",
    "    else:\n",
    "        return False"
   ]
  },
  {
   "cell_type": "code",
   "execution_count": 12,
   "metadata": {},
   "outputs": [
    {
     "name": "stdout",
     "output_type": "stream",
     "text": [
      "Welcome to Tic Tac Toe!\n",
      "Player 1 Plays First\n",
      "Enter the Marker(O/X): O\n",
      "-------------\n",
      "|   |   |   |\n",
      "-------------\n",
      "|   |   |   |\n",
      "-------------\n",
      "|   |   |   |\n",
      "-------------\n",
      "Enter Position: 1\n",
      "Player 2's Turn\n",
      "-------------\n",
      "| O |   |   |\n",
      "-------------\n",
      "|   |   |   |\n",
      "-------------\n",
      "|   |   |   |\n",
      "-------------\n",
      "Enter Position: 9\n",
      "Player 1's Turn\n",
      "-------------\n",
      "| O |   |   |\n",
      "-------------\n",
      "|   |   |   |\n",
      "-------------\n",
      "|   |   | X |\n",
      "-------------\n",
      "Enter Position: 5\n",
      "Player 2's Turn\n",
      "-------------\n",
      "| O |   |   |\n",
      "-------------\n",
      "|   | O |   |\n",
      "-------------\n",
      "|   |   | X |\n",
      "-------------\n",
      "Enter Position: 3\n",
      "Player 1's Turn\n",
      "-------------\n",
      "| O |   | X |\n",
      "-------------\n",
      "|   | O |   |\n",
      "-------------\n",
      "|   |   | X |\n",
      "-------------\n",
      "Enter Position: 6\n",
      "Player 2's Turn\n",
      "-------------\n",
      "| O |   | X |\n",
      "-------------\n",
      "|   | O | O |\n",
      "-------------\n",
      "|   |   | X |\n",
      "-------------\n",
      "Enter Position: 4\n",
      "Player 1's Turn\n",
      "-------------\n",
      "| O |   | X |\n",
      "-------------\n",
      "| X | O | O |\n",
      "-------------\n",
      "|   |   | X |\n",
      "-------------\n",
      "Enter Position: 2\n",
      "Player 2's Turn\n",
      "-------------\n",
      "| O | O | X |\n",
      "-------------\n",
      "| X | O | O |\n",
      "-------------\n",
      "|   |   | X |\n",
      "-------------\n",
      "Enter Position: 7\n",
      "Player 1's Turn\n",
      "-------------\n",
      "| O | O | X |\n",
      "-------------\n",
      "| X | O | O |\n",
      "-------------\n",
      "| X |   | X |\n",
      "-------------\n",
      "Enter Position: 8\n",
      "-------------\n",
      "| O | O | X |\n",
      "-------------\n",
      "| X | O | O |\n",
      "-------------\n",
      "| X | O | X |\n",
      "-------------\n",
      "Player 1 wins!!\n",
      "Want to play again?(y-n): N\n"
     ]
    }
   ],
   "source": [
    "print('Welcome to Tic Tac Toe!')\n",
    "play = True\n",
    "while play:\n",
    "    board = [' ']*9\n",
    "    turn = choose_first()\n",
    "    print(turn+' Plays First')\n",
    "    if(turn == 'Player 1'):\n",
    "        player_1_marker,player_2_marker = player_input()\n",
    "    else:\n",
    "        player_2_marker,player_1_marker = player_input()\n",
    "    game_on = True\n",
    "    while game_on:\n",
    "        if turn == 'Player 1':\n",
    "            display_board(board)\n",
    "            position = player_choice(board)\n",
    "            board = place_marker(board,player_1_marker,position)\n",
    "            if win_check(board,player_1_marker):\n",
    "                display_board(board)\n",
    "                print('Player 1 wins!!')\n",
    "                game_on =False\n",
    "            else:\n",
    "                if full_board_check(board):\n",
    "                    display_board(board)\n",
    "                    print('Game is Tie')\n",
    "                    game_on =False\n",
    "                else:\n",
    "                    turn = 'Player 2'\n",
    "                    print('Player 2\\'s Turn')\n",
    "        else:\n",
    "            display_board(board)\n",
    "            position = player_choice(board)\n",
    "            board = place_marker(board,player_2_marker,position)\n",
    "            if win_check(board,player_2_marker):\n",
    "                display_board(board)\n",
    "                print('Player 2 wins!!')\n",
    "                game_on =False\n",
    "            else:\n",
    "                if full_board_check(board):\n",
    "                    display_board(board)\n",
    "                    print('Game is Tie')\n",
    "                    game_on =False\n",
    "                else:\n",
    "                    turn = 'Player 1'\n",
    "                    print('Player 1\\'s Turn')\n",
    "    play = reply()"
   ]
  },
  {
   "cell_type": "code",
   "execution_count": null,
   "metadata": {},
   "outputs": [],
   "source": []
  }
 ],
 "metadata": {
  "kernelspec": {
   "display_name": "Python 2",
   "language": "python",
   "name": "python2"
  },
  "language_info": {
   "codemirror_mode": {
    "name": "ipython",
    "version": 2
   },
   "file_extension": ".py",
   "mimetype": "text/x-python",
   "name": "python",
   "nbconvert_exporter": "python",
   "pygments_lexer": "ipython2",
   "version": "2.7.14"
  }
 },
 "nbformat": 4,
 "nbformat_minor": 2
}
