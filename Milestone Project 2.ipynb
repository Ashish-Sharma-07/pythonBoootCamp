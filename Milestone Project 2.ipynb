{
 "cells": [
  {
   "cell_type": "markdown",
   "metadata": {},
   "source": [
    "# Blackjack Game"
   ]
  },
  {
   "cell_type": "markdown",
   "metadata": {},
   "source": [
    "    shoe: contains the deck from which cards are drawn\n",
    "    check: amount you want to spend for the game\n",
    "        initially 2 cards are given to the players\n",
    "        dealer is given 2 card one face up and other face down\n",
    "    if the dealer or the player have hand value greater than 21 it is called a bust and they loose\n",
    "    ace can be either 1 or 11 (creates a soft hand)\n",
    "    k,q,j have value 10\n",
    "    players turn:\n",
    "    stand: meaning you dont want another card(usually if value 17-21)\n",
    "    hit: meaning add one or more cards(2-16) allowed to add unitll(18-21 or bust)\n",
    "    doubling-down: if first two card value upto 9,10,11\n",
    "    optional bet value(riginal bet or less) add one card may loose both bet\n",
    "    splitting: equal amount if paired(max split 4 hands)\n",
    "    surrender : automatic loss loose half of bet\n",
    "    blackjack only first 2 cards\n",
    "    dealers turn:\n",
    "        must hit on values 16 and lower\n",
    "        stay 17 to 21\n"
   ]
  },
  {
   "cell_type": "code",
   "execution_count": 101,
   "metadata": {},
   "outputs": [],
   "source": [
    "import random\n",
    "suits=('Spades','Diamonds','Clubs','Heart')\n",
    "ranks = ('Ace','2','3','4','5','6','7','8','9','10','King','Queen','Jack')\n",
    "value = {'Ace':[1,11],'2':2,'3':3,'4':4,'5':5,'6':6,'7':7,'8':8,'9':9,'10':10,'King':10,'Queen':10,'Jack':10}"
   ]
  },
  {
   "cell_type": "code",
   "execution_count": 102,
   "metadata": {},
   "outputs": [],
   "source": [
    "class Card(object):\n",
    "    \n",
    "    def __init__(self,rank,suit):\n",
    "        self.suit = suit\n",
    "        self.rank = rank\n",
    "     \n",
    "    def __str__(self):\n",
    "        return '%s of %s'%(self.rank,self.suit)\n",
    "    \n",
    "    def get_rank(self):\n",
    "        return self.rank\n",
    "    \n",
    "    def get_suit(self):\n",
    "        return self.suit\n",
    "    \n",
    "    def draw(self):\n",
    "        print '%s of %s'%(self.rank,self.suit)\n",
    "    "
   ]
  },
  {
   "cell_type": "code",
   "execution_count": 187,
   "metadata": {},
   "outputs": [],
   "source": [
    "class Deck(object):\n",
    "    \n",
    "    def __init__(self):\n",
    "        self.deck = []\n",
    "        for i in suits:\n",
    "            for j in ranks:\n",
    "                self.deck.append(Card(j,i))\n",
    "\n",
    "    def shuffle_deck(self):\n",
    "        random.shuffle(self.deck)\n",
    "    \n",
    "    def deal(self):\n",
    "        single_card = self.deck.pop()\n",
    "        return single_card\n",
    "    \n",
    "    def __str__(self):\n",
    "        deck_comp=''\n",
    "        for card in self.deck:\n",
    "            deck_comp += '\\n'+card.__str__()\n",
    "        return deck_comp"
   ]
  },
  {
   "cell_type": "code",
   "execution_count": 188,
   "metadata": {},
   "outputs": [],
   "source": [
    "deck = Deck()"
   ]
  },
  {
   "cell_type": "code",
   "execution_count": 189,
   "metadata": {},
   "outputs": [],
   "source": [
    "deck.shuffle_deck()"
   ]
  },
  {
   "cell_type": "code",
   "execution_count": 190,
   "metadata": {},
   "outputs": [
    {
     "name": "stdout",
     "output_type": "stream",
     "text": [
      "4 of Heart\n"
     ]
    }
   ],
   "source": [
    "print deck.deal()"
   ]
  },
  {
   "cell_type": "code",
   "execution_count": 191,
   "metadata": {},
   "outputs": [
    {
     "data": {
      "text/plain": [
       "<__main__.Deck at 0x3cfb850>"
      ]
     },
     "execution_count": 191,
     "metadata": {},
     "output_type": "execute_result"
    }
   ],
   "source": [
    "deck"
   ]
  },
  {
   "cell_type": "code",
   "execution_count": 192,
   "metadata": {},
   "outputs": [],
   "source": [
    "s = deck"
   ]
  },
  {
   "cell_type": "code",
   "execution_count": 193,
   "metadata": {},
   "outputs": [
    {
     "name": "stdout",
     "output_type": "stream",
     "text": [
      "\n",
      "7 of Diamonds\n",
      "Jack of Clubs\n",
      "3 of Clubs\n",
      "10 of Diamonds\n",
      "9 of Diamonds\n",
      "King of Diamonds\n",
      "7 of Heart\n",
      "Ace of Heart\n",
      "Ace of Spades\n",
      "Jack of Spades\n",
      "6 of Clubs\n",
      "6 of Spades\n",
      "Jack of Diamonds\n",
      "5 of Heart\n",
      "King of Spades\n",
      "3 of Heart\n",
      "King of Heart\n",
      "8 of Diamonds\n",
      "4 of Diamonds\n",
      "5 of Spades\n",
      "2 of Clubs\n",
      "9 of Spades\n",
      "Queen of Heart\n",
      "Ace of Diamonds\n",
      "Queen of Clubs\n",
      "4 of Clubs\n",
      "8 of Spades\n",
      "Jack of Heart\n",
      "10 of Clubs\n",
      "2 of Diamonds\n",
      "5 of Clubs\n",
      "King of Clubs\n",
      "9 of Heart\n",
      "8 of Heart\n",
      "Ace of Clubs\n",
      "Queen of Diamonds\n",
      "5 of Diamonds\n",
      "3 of Diamonds\n",
      "3 of Spades\n",
      "6 of Heart\n",
      "8 of Clubs\n",
      "2 of Heart\n",
      "9 of Clubs\n",
      "10 of Heart\n",
      "4 of Spades\n",
      "2 of Spades\n",
      "10 of Spades\n",
      "7 of Spades\n",
      "7 of Clubs\n",
      "Queen of Spades\n",
      "6 of Diamonds\n"
     ]
    }
   ],
   "source": [
    "print s"
   ]
  },
  {
   "cell_type": "code",
   "execution_count": 176,
   "metadata": {},
   "outputs": [],
   "source": [
    "card = Card('Spades','1')"
   ]
  },
  {
   "cell_type": "code",
   "execution_count": 177,
   "metadata": {},
   "outputs": [
    {
     "data": {
      "text/plain": [
       "str"
      ]
     },
     "execution_count": 177,
     "metadata": {},
     "output_type": "execute_result"
    }
   ],
   "source": [
    "type(card.__str__())"
   ]
  },
  {
   "cell_type": "code",
   "execution_count": 178,
   "metadata": {},
   "outputs": [],
   "source": [
    "card = deck.deck[1]"
   ]
  },
  {
   "cell_type": "code",
   "execution_count": 179,
   "metadata": {},
   "outputs": [
    {
     "data": {
      "text/plain": [
       "'3 of Spades'"
      ]
     },
     "execution_count": 179,
     "metadata": {},
     "output_type": "execute_result"
    }
   ],
   "source": [
    "card.__str__()"
   ]
  },
  {
   "cell_type": "code",
   "execution_count": null,
   "metadata": {},
   "outputs": [],
   "source": [
    "class Hand(object):\n",
    "    \n",
    "    def __init__(self):\n",
    "        self.cards = []\n",
    "        self.values = 0\n",
    "    \n",
    "    def __str__(self):\n",
    "        hand_cards = \"\"\n",
    "        for card in self.cards:\n",
    "            hand_cards += card.__str__()    \n",
    "        return hand_cards\n",
    "    \n",
    "    def card_add(card):\n",
    "        "
   ]
  }
 ],
 "metadata": {
  "kernelspec": {
   "display_name": "Python 2",
   "language": "python",
   "name": "python2"
  },
  "language_info": {
   "codemirror_mode": {
    "name": "ipython",
    "version": 2
   },
   "file_extension": ".py",
   "mimetype": "text/x-python",
   "name": "python",
   "nbconvert_exporter": "python",
   "pygments_lexer": "ipython2",
   "version": "2.7.14"
  }
 },
 "nbformat": 4,
 "nbformat_minor": 2
}
